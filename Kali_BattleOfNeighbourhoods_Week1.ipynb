{
    "cells": [
        {
            "cell_type": "markdown",
            "metadata": {
                "collapsed": true
            },
            "source": "# Where to open a restaurant in Glasgow"
        },
        {
            "cell_type": "markdown",
            "metadata": {
                "collapsed": true
            },
            "source": "## Introduction / Business Problem \n\n<p>Glasgow is the largest and most populous city in Scotland. </p>\n\n<p>It is known for its vibrant nature. It is always welcoming new businesses and especially for Restaurant. As it is touted as a business capital of Scotland, there is no shortage of tourists and business visitors. </p>\n\n<p>However not all the constituencies are having quality restaurants. So this is an attempt to find out how where the restaurants are available in Glasgow constituencies, what is the ratio of restaurants to population and suggesting whic constituency would be better to open the restaurant in Glasgow. </p>"
        },
        {
            "cell_type": "markdown",
            "metadata": {
                "collapsed": true
            },
            "source": "<img src=\"https://kali-capstone-assignment.s3.eu-gb.cloud-object-storage.appdomain.cloud/Glasgow.PNG\" alt=\"Glasgow\"></img>"
        },
        {
            "cell_type": "markdown",
            "metadata": {
                "collapsed": true
            },
            "source": "# Data Section"
        },
        {
            "cell_type": "markdown",
            "metadata": {
                "collapsed": true
            },
            "source": "<p> I found the postcodes of Scotand in CSV Format in the following location </p>\n<a href=\"https://www.doogal.co.uk/PostcodeDownloads.php\">Postal Codes in UK</a>"
        },
        {
            "cell_type": "markdown",
            "metadata": {
                "collapsed": true
            },
            "source": "<p> I have uploaded the CSV into IBM Object storage, as I am going to use IBM Watson Studio for this exercise. </p>\n<p> Here is the link of the file in Object storage.. </p>\n<a href=\"https://kali-capstone-assignment.s3.eu-gb.cloud-object-storage.appdomain.cloud/scotland.csv\">https://kali-capstone-assignment.s3.eu-gb.cloud-object-storage.appdomain.cloud/scotland.csv</a>\n"
        },
        {
            "cell_type": "markdown",
            "metadata": {
                "collapsed": true
            },
            "source": "<p> Let's explore the data and how it will be used for my purposes. I am going to start loading the data into Pandas Dataframe for this purpose. </p>"
        },
        {
            "cell_type": "code",
            "execution_count": 62,
            "metadata": {},
            "outputs": [],
            "source": "import pandas as pd\nimport numpy as np"
        },
        {
            "cell_type": "code",
            "execution_count": 63,
            "metadata": {},
            "outputs": [
                {
                    "name": "stderr",
                    "output_type": "stream",
                    "text": "/opt/conda/envs/Python36/lib/python3.6/site-packages/IPython/core/interactiveshell.py:3020: DtypeWarning: Columns (18) have mixed types. Specify dtype option on import or set low_memory=False.\n  interactivity=interactivity, compiler=compiler, result=result)\n"
                }
            ],
            "source": "scotland_df = pd.read_csv(\"https://kali-capstone-assignment.s3.eu-gb.cloud-object-storage.appdomain.cloud/scotland.csv\")"
        },
        {
            "cell_type": "markdown",
            "metadata": {},
            "source": "### Print the data to see how it appears"
        },
        {
            "cell_type": "code",
            "execution_count": 64,
            "metadata": {},
            "outputs": [
                {
                    "data": {
                        "text/html": "<div>\n<style scoped>\n    .dataframe tbody tr th:only-of-type {\n        vertical-align: middle;\n    }\n\n    .dataframe tbody tr th {\n        vertical-align: top;\n    }\n\n    .dataframe thead th {\n        text-align: right;\n    }\n</style>\n<table border=\"1\" class=\"dataframe\">\n  <thead>\n    <tr style=\"text-align: right;\">\n      <th></th>\n      <th>Postcode</th>\n      <th>In Use?</th>\n      <th>Latitude</th>\n      <th>Longitude</th>\n      <th>Easting</th>\n      <th>Northing</th>\n      <th>Grid Ref</th>\n      <th>County</th>\n      <th>District</th>\n      <th>Ward</th>\n      <th>...</th>\n      <th>User Type</th>\n      <th>Last updated</th>\n      <th>Nearest station</th>\n      <th>Distance to station</th>\n      <th>Postcode area</th>\n      <th>Postcode district</th>\n      <th>Police force</th>\n      <th>Water company</th>\n      <th>Plus Code</th>\n      <th>Average Income</th>\n    </tr>\n  </thead>\n  <tbody>\n    <tr>\n      <th>0</th>\n      <td>AB1 0AA</td>\n      <td>No</td>\n      <td>57.101474</td>\n      <td>-2.242851</td>\n      <td>385386.0</td>\n      <td>801193.0</td>\n      <td>NJ853011</td>\n      <td>NaN</td>\n      <td>Aberdeen City</td>\n      <td>Lower Deeside</td>\n      <td>...</td>\n      <td>0</td>\n      <td>2020-02-19</td>\n      <td>Portlethen</td>\n      <td>8.31408</td>\n      <td>AB</td>\n      <td>AB1</td>\n      <td>Scotland</td>\n      <td>Scottish Water</td>\n      <td>9C9V4Q24+HV</td>\n      <td>NaN</td>\n    </tr>\n    <tr>\n      <th>1</th>\n      <td>AB1 0AB</td>\n      <td>No</td>\n      <td>57.102554</td>\n      <td>-2.246308</td>\n      <td>385177.0</td>\n      <td>801314.0</td>\n      <td>NJ851013</td>\n      <td>NaN</td>\n      <td>Aberdeen City</td>\n      <td>Lower Deeside</td>\n      <td>...</td>\n      <td>0</td>\n      <td>2020-02-19</td>\n      <td>Portlethen</td>\n      <td>8.55457</td>\n      <td>AB</td>\n      <td>AB1</td>\n      <td>Scotland</td>\n      <td>Scottish Water</td>\n      <td>9C9V4Q33+2F</td>\n      <td>NaN</td>\n    </tr>\n    <tr>\n      <th>2</th>\n      <td>AB1 0AD</td>\n      <td>No</td>\n      <td>57.100556</td>\n      <td>-2.248342</td>\n      <td>385053.0</td>\n      <td>801092.0</td>\n      <td>NJ850010</td>\n      <td>NaN</td>\n      <td>Aberdeen City</td>\n      <td>Lower Deeside</td>\n      <td>...</td>\n      <td>0</td>\n      <td>2020-02-19</td>\n      <td>Portlethen</td>\n      <td>8.54352</td>\n      <td>AB</td>\n      <td>AB1</td>\n      <td>Scotland</td>\n      <td>Scottish Water</td>\n      <td>9C9V4Q22+6M</td>\n      <td>NaN</td>\n    </tr>\n    <tr>\n      <th>3</th>\n      <td>AB1 0AE</td>\n      <td>No</td>\n      <td>57.084444</td>\n      <td>-2.255708</td>\n      <td>384600.0</td>\n      <td>799300.0</td>\n      <td>NO845992</td>\n      <td>NaN</td>\n      <td>Aberdeenshire</td>\n      <td>North Kincardine</td>\n      <td>...</td>\n      <td>0</td>\n      <td>2020-02-19</td>\n      <td>Portlethen</td>\n      <td>8.20809</td>\n      <td>AB</td>\n      <td>AB1</td>\n      <td>Scotland</td>\n      <td>Scottish Water</td>\n      <td>9C9V3PMV+QP</td>\n      <td>NaN</td>\n    </tr>\n    <tr>\n      <th>4</th>\n      <td>AB1 0AF</td>\n      <td>No</td>\n      <td>57.096656</td>\n      <td>-2.258102</td>\n      <td>384460.0</td>\n      <td>800660.0</td>\n      <td>NJ844006</td>\n      <td>NaN</td>\n      <td>Aberdeen City</td>\n      <td>Lower Deeside</td>\n      <td>...</td>\n      <td>1</td>\n      <td>2020-02-19</td>\n      <td>Portlethen</td>\n      <td>8.85583</td>\n      <td>AB</td>\n      <td>AB1</td>\n      <td>Scotland</td>\n      <td>Scottish Water</td>\n      <td>9C9V3PWR+MQ</td>\n      <td>NaN</td>\n    </tr>\n  </tbody>\n</table>\n<p>5 rows \u00d7 47 columns</p>\n</div>",
                        "text/plain": "  Postcode In Use?   Latitude  Longitude   Easting  Northing  Grid Ref  \\\n0  AB1 0AA      No  57.101474  -2.242851  385386.0  801193.0  NJ853011   \n1  AB1 0AB      No  57.102554  -2.246308  385177.0  801314.0  NJ851013   \n2  AB1 0AD      No  57.100556  -2.248342  385053.0  801092.0  NJ850010   \n3  AB1 0AE      No  57.084444  -2.255708  384600.0  799300.0  NO845992   \n4  AB1 0AF      No  57.096656  -2.258102  384460.0  800660.0  NJ844006   \n\n   County       District              Ward  ... User Type Last updated  \\\n0     NaN  Aberdeen City     Lower Deeside  ...         0   2020-02-19   \n1     NaN  Aberdeen City     Lower Deeside  ...         0   2020-02-19   \n2     NaN  Aberdeen City     Lower Deeside  ...         0   2020-02-19   \n3     NaN  Aberdeenshire  North Kincardine  ...         0   2020-02-19   \n4     NaN  Aberdeen City     Lower Deeside  ...         1   2020-02-19   \n\n  Nearest station Distance to station Postcode area Postcode district  \\\n0      Portlethen             8.31408            AB               AB1   \n1      Portlethen             8.55457            AB               AB1   \n2      Portlethen             8.54352            AB               AB1   \n3      Portlethen             8.20809            AB               AB1   \n4      Portlethen             8.85583            AB               AB1   \n\n  Police force   Water company    Plus Code  Average Income  \n0     Scotland  Scottish Water  9C9V4Q24+HV             NaN  \n1     Scotland  Scottish Water  9C9V4Q33+2F             NaN  \n2     Scotland  Scottish Water  9C9V4Q22+6M             NaN  \n3     Scotland  Scottish Water  9C9V3PMV+QP             NaN  \n4     Scotland  Scottish Water  9C9V3PWR+MQ             NaN  \n\n[5 rows x 47 columns]"
                    },
                    "execution_count": 64,
                    "metadata": {},
                    "output_type": "execute_result"
                }
            ],
            "source": "scotland_df.head(5)"
        },
        {
            "cell_type": "code",
            "execution_count": 66,
            "metadata": {},
            "outputs": [
                {
                    "data": {
                        "text/plain": "(224804, 47)"
                    },
                    "execution_count": 66,
                    "metadata": {},
                    "output_type": "execute_result"
                }
            ],
            "source": "scotland_df.shape"
        },
        {
            "cell_type": "code",
            "execution_count": 67,
            "metadata": {},
            "outputs": [
                {
                    "data": {
                        "text/plain": "Postcode                           object\nIn Use?                            object\nLatitude                          float64\nLongitude                         float64\nEasting                           float64\nNorthing                          float64\nGrid Ref                           object\nCounty                            float64\nDistrict                           object\nWard                               object\nDistrict Code                      object\nWard Code                          object\nCountry                            object\nCounty Code                        object\nConstituency                       object\nIntroduced                         object\nTerminated                         object\nParish                            float64\nNational Park                      object\nPopulation                        float64\nHouseholds                        float64\nBuilt up area                     float64\nBuilt up sub-division             float64\nLower layer super output area      object\nRural/urban                        object\nRegion                            float64\nAltitude                          float64\nLondon zone                       float64\nLSOA Code                          object\nLocal authority                   float64\nMSOA Code                          object\nMiddle layer super output area     object\nParish Code                       float64\nCensus output area                 object\nConstituency Code                  object\nIndex of Multiple Deprivation       int64\nQuality                             int64\nUser Type                           int64\nLast updated                       object\nNearest station                    object\nDistance to station               float64\nPostcode area                      object\nPostcode district                  object\nPolice force                       object\nWater company                      object\nPlus Code                          object\nAverage Income                    float64\ndtype: object"
                    },
                    "execution_count": 67,
                    "metadata": {},
                    "output_type": "execute_result"
                }
            ],
            "source": "scotland_df.dtypes"
        },
        {
            "cell_type": "markdown",
            "metadata": {},
            "source": "#### As the data contains very granular detail, we need to narrow it down further\n\n<ul>Firstly extract Glasgow only data from the scotland dataset</ul>\n<ul>This will be achieved by the District column. Let's see what are the different values of the district column</ul>"
        },
        {
            "cell_type": "code",
            "execution_count": 69,
            "metadata": {},
            "outputs": [
                {
                    "data": {
                        "text/plain": "Glasgow City             25406\nAberdeenshire            21424\nCity of Edinburgh        18948\nAberdeen City            14307\nFife                     12705\nSouth Lanarkshire        10557\nHighland                 10165\nNorth Lanarkshire         9739\nDumfries and Galloway     7851\nPerth and Kinross         6890\nMoray                     6626\nRenfrewshire              6191\nDundee City               6106\nScottish Borders          5176\nWest Lothian              5092\nFalkirk                   5069\nNorth Ayrshire            4995\nEast Ayrshire             4745\nAngus                     4540\nSouth Ayrshire            4454\nEast Dunbartonshire       4256\nArgyll and Bute           4136\nStirling                  3709\nEast Lothian              3572\nMidlothian                3367\nEast Renfrewshire         3132\nWest Dunbartonshire       3058\nInverclyde                3002\nNa h-Eileanan Siar        2003\nClackmannanshire          1595\nOrkney Islands             831\nShetland Islands           749\nName: District, dtype: int64"
                    },
                    "execution_count": 69,
                    "metadata": {},
                    "output_type": "execute_result"
                }
            ],
            "source": "scotland_df['District'].value_counts()"
        },
        {
            "cell_type": "markdown",
            "metadata": {},
            "source": "##### Let's obtain the dataframe for glasgow only"
        },
        {
            "cell_type": "code",
            "execution_count": 70,
            "metadata": {},
            "outputs": [],
            "source": "glasgow_only = scot_dfs[scot_dfs['District'] == 'Glasgow City' ]"
        },
        {
            "cell_type": "code",
            "execution_count": 71,
            "metadata": {},
            "outputs": [
                {
                    "data": {
                        "text/plain": "(25406, 47)"
                    },
                    "execution_count": 71,
                    "metadata": {},
                    "output_type": "execute_result"
                }
            ],
            "source": "glasgow_only.shape"
        },
        {
            "cell_type": "markdown",
            "metadata": {},
            "source": "###### Further data processing steps\n\n<ul> Filter out the rows that are not \"In Use?\" </ul>\n<ul> Take only the columns Constituency, Latitude, Longitude, Population </ul> \n<ul> Group them and create a new Data frame which has the aggregated values </ul>"
        },
        {
            "cell_type": "code",
            "execution_count": 72,
            "metadata": {},
            "outputs": [
                {
                    "data": {
                        "text/plain": "(15413, 47)"
                    },
                    "execution_count": 72,
                    "metadata": {},
                    "output_type": "execute_result"
                }
            ],
            "source": "glasgow_only_active = glasgow_only[ glasgow_only[\"In Use?\"] == 'Yes']\nglasgow_only_active.shape"
        },
        {
            "cell_type": "code",
            "execution_count": 73,
            "metadata": {},
            "outputs": [],
            "source": "glasgow_working_df = glasgow_only_active[[\"Constituency\",\"Latitude\",\"Longitude\", \"Population\"]].reset_index()"
        },
        {
            "cell_type": "code",
            "execution_count": 75,
            "metadata": {},
            "outputs": [],
            "source": "glasgow_cons_population = glasgow_working_df.groupby(\"Constituency\")[\"Population\"].sum().reset_index()"
        },
        {
            "cell_type": "code",
            "execution_count": 76,
            "metadata": {},
            "outputs": [],
            "source": "glasgow_cons_latitude = glasgow_working_df.groupby(\"Constituency\")[\"Latitude\"].max().reset_index()"
        },
        {
            "cell_type": "code",
            "execution_count": 77,
            "metadata": {},
            "outputs": [],
            "source": "glasgow_cons_longitude = glasgow_working_df.groupby(\"Constituency\")[\"Longitude\"].min().reset_index()"
        },
        {
            "cell_type": "code",
            "execution_count": 78,
            "metadata": {},
            "outputs": [],
            "source": " glasgow_cons_latlong = pd.merge(glasgow_cons_latitude, glasgow_cons_longitude, on=\"Constituency\")"
        },
        {
            "cell_type": "code",
            "execution_count": 80,
            "metadata": {},
            "outputs": [],
            "source": "glasgow_df = pd.merge(glasgow_cons_latlong, glasgow_cons_population, on=\"Constituency\")"
        },
        {
            "cell_type": "code",
            "execution_count": 81,
            "metadata": {},
            "outputs": [
                {
                    "data": {
                        "text/html": "<div>\n<style scoped>\n    .dataframe tbody tr th:only-of-type {\n        vertical-align: middle;\n    }\n\n    .dataframe tbody tr th {\n        vertical-align: top;\n    }\n\n    .dataframe thead th {\n        text-align: right;\n    }\n</style>\n<table border=\"1\" class=\"dataframe\">\n  <thead>\n    <tr style=\"text-align: right;\">\n      <th></th>\n      <th>Constituency</th>\n      <th>Latitude</th>\n      <th>Longitude</th>\n      <th>Population</th>\n    </tr>\n  </thead>\n  <tbody>\n    <tr>\n      <th>0</th>\n      <td>Glasgow Central</td>\n      <td>55.871472</td>\n      <td>-4.313860</td>\n      <td>88872.0</td>\n    </tr>\n    <tr>\n      <th>1</th>\n      <td>Glasgow East</td>\n      <td>55.883648</td>\n      <td>-4.222633</td>\n      <td>86052.0</td>\n    </tr>\n    <tr>\n      <th>2</th>\n      <td>Glasgow North</td>\n      <td>55.926410</td>\n      <td>-4.322833</td>\n      <td>71435.0</td>\n    </tr>\n    <tr>\n      <th>3</th>\n      <td>Glasgow North East</td>\n      <td>55.917998</td>\n      <td>-4.271293</td>\n      <td>81568.0</td>\n    </tr>\n    <tr>\n      <th>4</th>\n      <td>Glasgow North West</td>\n      <td>55.918846</td>\n      <td>-4.387423</td>\n      <td>84955.0</td>\n    </tr>\n    <tr>\n      <th>5</th>\n      <td>Glasgow South</td>\n      <td>55.843890</td>\n      <td>-4.335717</td>\n      <td>87132.0</td>\n    </tr>\n    <tr>\n      <th>6</th>\n      <td>Glasgow South West</td>\n      <td>55.868672</td>\n      <td>-4.379913</td>\n      <td>83174.0</td>\n    </tr>\n  </tbody>\n</table>\n</div>",
                        "text/plain": "         Constituency   Latitude  Longitude  Population\n0     Glasgow Central  55.871472  -4.313860     88872.0\n1        Glasgow East  55.883648  -4.222633     86052.0\n2       Glasgow North  55.926410  -4.322833     71435.0\n3  Glasgow North East  55.917998  -4.271293     81568.0\n4  Glasgow North West  55.918846  -4.387423     84955.0\n5       Glasgow South  55.843890  -4.335717     87132.0\n6  Glasgow South West  55.868672  -4.379913     83174.0"
                    },
                    "execution_count": 81,
                    "metadata": {},
                    "output_type": "execute_result"
                }
            ],
            "source": "glasgow_df.head(10)"
        },
        {
            "cell_type": "markdown",
            "metadata": {},
            "source": "#### This is the data that will be used with Four Square API to explore venues in each of these constituencies. Clustering would be applied to the venues and sort them out to see where the restaurants are ranked. This will allow to decide which or whether any areas are good for opening a restaurant \n\n### This is the End of Week 4 submission of Capstone"
        },
        {
            "cell_type": "code",
            "execution_count": null,
            "metadata": {},
            "outputs": [],
            "source": ""
        }
    ],
    "metadata": {
        "kernelspec": {
            "display_name": "Python 3.6",
            "language": "python",
            "name": "python3"
        },
        "language_info": {
            "codemirror_mode": {
                "name": "ipython",
                "version": 3
            },
            "file_extension": ".py",
            "mimetype": "text/x-python",
            "name": "python",
            "nbconvert_exporter": "python",
            "pygments_lexer": "ipython3",
            "version": "3.6.9"
        }
    },
    "nbformat": 4,
    "nbformat_minor": 1
}